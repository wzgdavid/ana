{
 "cells": [
  {
   "cell_type": "markdown",
   "metadata": {},
   "source": [
    "## 根据简单指标构建趋势，然后验证指数向趋势方向运行的概率（做多）"
   ]
  },
  {
   "cell_type": "code",
   "execution_count": 1,
   "metadata": {},
   "outputs": [],
   "source": [
    "import numpy as np\n",
    "import pandas as pd\n",
    "import matplotlib.pyplot as plt\n",
    "import seaborn as sns\n",
    "\n",
    "#df = pd.read_csv(r'E:\\workspace\\qqqhhh\\data\\rb\\zl.csv')  # 螺纹主连日线\n",
    "#df = pd.read_csv(r'E:\\workspace\\qqqhhh\\data\\rb\\zlh.csv') # 螺纹主连小时线\n",
    "#df = pd.read_csv(r'E:\\workspace\\qqqhhh\\data\\rb\\zs.csv')  # 螺纹指数日线\n",
    "#df = pd.read_csv(r'E:\\workspace\\qqqhhh\\data\\rb\\zsh.csv') # 螺纹指数小时线\n",
    "\n",
    "#构建指标\n",
    "def get_DKX(df, n=10):\n",
    "    df['a'] = (df.c * 3 + df.l + df.o + df.h)/6\n",
    "    df['b'] = (20*df.a + 19*df.a.shift(1) + 18*df.a.shift(2) + 17*df.a.shift(3) + \n",
    "        16*df.a.shift(4) + 15*df.a.shift(5) + 14*df.a.shift(6) + \n",
    "        13*df.a.shift(7) + 12*df.a.shift(8) + 11*df.a.shift(9) + \n",
    "        10*df.a.shift(10) + 9*df.a.shift(11) + 8*df.a.shift(12) + 7*df.a.shift(13) + \n",
    "        6*df.a.shift(14) + 5*df.a.shift(15) + 4*df.a.shift(16) + \n",
    "        3*df.a.shift(17) + 2*df.a.shift(18) + 1*df.a.shift(19))/210\n",
    "    df['d'] = df.b.rolling(n).mean()\n",
    "    return df.drop(['a'], axis=1)\n",
    "\n",
    "\n",
    "\n",
    "# 显示结果的函数\n",
    "def result(df):\n",
    "    '''df is dataframe'''\n",
    "    df['c_up'] = np.where( df.c > df.c.shift(1), 1, 0 )\n",
    "    gailv = np.round(df.c_up.sum()/df.shape[0], 3) * 100\n",
    "    gailv = str(gailv)[:4]\n",
    "    print( '收盘价比前一天收盘价高的概率 {}% '.format(gailv)) # 某条件下   c比前一天高的概率\n",
    "    \n",
    "    df['l_up'] = np.where( df.l > df.l.shift(1), 1, 0 )\n",
    "    gailv2 = round(df.l_up.sum()/df.shape[0], 3) * 100\n",
    "    gailv2 = str(gailv2)[:4]\n",
    "    print('最低价比前一天最低价高的概率 {}%'.format(gailv2)) # 某条件下   low比前一天高的概率\n",
    "    return gailv, gailv2\n",
    "\n",
    "def ready(whichdata):\n",
    "    df = pd.read_csv(r'E:\\workspace\\qqqhhh\\data\\rb\\{}.csv'.format(whichdata))\n",
    "    df = get_DKX(df) \n",
    "    df['ma'] = df.c.rolling(window=10, center=False).mean()\n",
    "    return df.copy()\n",
    "\n",
    "columns = ['主连日线','主连小时线','指数日线','指数小时线']\n",
    "index = ['DKXb向上','K线高于DKXb','ma向上','K线高于ma']\n",
    "# 收盘价各种情况比较\n",
    "dfc = pd.DataFrame(index=index, columns=columns)\n",
    "# 最低价各种情况比较\n",
    "dfl = pd.DataFrame(index=index, columns=columns)"
   ]
  },
  {
   "cell_type": "markdown",
   "metadata": {},
   "source": [
    "## 过滤数据   主连日线"
   ]
  },
  {
   "cell_type": "code",
   "execution_count": 2,
   "metadata": {},
   "outputs": [
    {
     "name": "stdout",
     "output_type": "stream",
     "text": [
      "收盘价比前一天收盘价高的概率 51.9% \n",
      "最低价比前一天最低价高的概率 57.3%\n",
      "收盘价比前一天收盘价高的概率 54.4% \n",
      "最低价比前一天最低价高的概率 61.2%\n",
      "收盘价比前一天收盘价高的概率 52.4% \n",
      "最低价比前一天最低价高的概率 59.2%\n",
      "收盘价比前一天收盘价高的概率 55.3% \n",
      "最低价比前一天最低价高的概率 63.6%\n"
     ]
    }
   ],
   "source": [
    "# 过滤出DKX 的b线 向上的数据\n",
    "df = ready('zl')\n",
    "df['DKX_b_up'] = np.where(df.b > df.b.shift(1), 1, 0)\n",
    "df = df.loc[df.DKX_b_up==1,:]\n",
    "c1,l1 = result(df)\n",
    "\n",
    "# 过滤出k线比DKX b线 高的数据\n",
    "df = ready('zl')\n",
    "df['higher_DKX'] = np.where(df.l > df.b, 1, 0)\n",
    "df = df.loc[df.higher_DKX==1,:]\n",
    "c2,l2 = result(df)\n",
    "\n",
    "# 过滤出ma向上的数据\n",
    "df = ready('zl')\n",
    "df['ma_up'] = np.where(df.ma > df.ma.shift(1), 1, 0)\n",
    "df = df.loc[df.ma_up==1, :]\n",
    "c3,l3 = result(df)\n",
    "\n",
    "# k线在ma上的数据\n",
    "df = ready('zl')\n",
    "df['ma_up'] = np.where(df.l > df.ma, 1, 0)\n",
    "df = df.loc[df.ma_up==1, :]\n",
    "c4,l4 = result(df)\n",
    "\n",
    "dfc['主连日线'] = [c1,c2,c3,c4]\n",
    "dfl['主连日线'] = [l1,l2,l3,l4]\n"
   ]
  },
  {
   "cell_type": "markdown",
   "metadata": {},
   "source": [
    "## 过滤数据   主连小时线"
   ]
  },
  {
   "cell_type": "code",
   "execution_count": 3,
   "metadata": {},
   "outputs": [
    {
     "name": "stdout",
     "output_type": "stream",
     "text": [
      "收盘价比前一天收盘价高的概率 51.4% \n",
      "最低价比前一天最低价高的概率 58.2%\n",
      "收盘价比前一天收盘价高的概率 54.5% \n",
      "最低价比前一天最低价高的概率 62.6%\n",
      "收盘价比前一天收盘价高的概率 52.3% \n",
      "最低价比前一天最低价高的概率 58.4%\n",
      "收盘价比前一天收盘价高的概率 56.1% \n",
      "最低价比前一天最低价高的概率 64.8%\n"
     ]
    }
   ],
   "source": [
    "# 过滤出DKX 的b线 向上的数据\n",
    "df = ready('zlh')\n",
    "df['DKX_b_up'] = np.where(df.b > df.b.shift(1), 1, 0)\n",
    "df = df.loc[df.DKX_b_up==1,:]\n",
    "c1, l1 = result(df)\n",
    "\n",
    "# 过滤出k线比DKX b线 高的数据\n",
    "df = ready('zlh')\n",
    "df['higher_DKX'] = np.where(df.l > df.b, 1, 0)\n",
    "df = df.loc[df.higher_DKX==1,:]\n",
    "c2, l2 = result(df)\n",
    "\n",
    "# 过滤出ma向上的数据\n",
    "df = ready('zlh')\n",
    "df['ma_up'] = np.where(df.ma > df.ma.shift(1), 1, 0)\n",
    "df = df.loc[df.ma_up==1, :]\n",
    "c3, l3 = result(df)\n",
    "\n",
    "# k线在ma上的数据\n",
    "df = ready('zlh')\n",
    "df['ma_up'] = np.where(df.l > df.ma, 1, 0)\n",
    "df = df.loc[df.ma_up==1, :]\n",
    "c4, l4 = result(df)\n",
    "\n",
    "dfc['主连小时线'] = [c1,c2,c3,c4]\n",
    "dfl['主连小时线'] = [l1,l2,l3,l4]\n"
   ]
  },
  {
   "cell_type": "markdown",
   "metadata": {},
   "source": [
    "## 过滤数据 主连日线"
   ]
  },
  {
   "cell_type": "code",
   "execution_count": 4,
   "metadata": {},
   "outputs": [
    {
     "name": "stdout",
     "output_type": "stream",
     "text": [
      "收盘价比前一天收盘价高的概率 54.3% \n",
      "最低价比前一天最低价高的概率 59.7%\n",
      "收盘价比前一天收盘价高的概率 56.3% \n",
      "最低价比前一天最低价高的概率 63.7%\n",
      "收盘价比前一天收盘价高的概率 54.3% \n",
      "最低价比前一天最低价高的概率 61.1%\n",
      "收盘价比前一天收盘价高的概率 56.2% \n",
      "最低价比前一天最低价高的概率 65.4%\n"
     ]
    }
   ],
   "source": [
    "# 过滤出DKX 的b线 向上的数据\n",
    "df = ready('zs')\n",
    "df['DKX_b_up'] = np.where(df.b > df.b.shift(1), 1, 0)\n",
    "df = df.loc[df.DKX_b_up==1,:]\n",
    "c1,l1 = result(df)\n",
    "\n",
    "# 过滤出k线比DKX b线 高的数据\n",
    "df = ready('zs')\n",
    "df['higher_DKX'] = np.where(df.l > df.b, 1, 0)\n",
    "df = df.loc[df.higher_DKX==1,:]\n",
    "c2,l2 = result(df)\n",
    "\n",
    "# 过滤出ma向上的数据\n",
    "df = ready('zs')\n",
    "df['ma_up'] = np.where(df.ma > df.ma.shift(1), 1, 0)\n",
    "df = df.loc[df.ma_up==1, :]\n",
    "c3,l3 = result(df)\n",
    "\n",
    "# k线在ma上的数据\n",
    "df = ready('zs')\n",
    "df['ma_up'] = np.where(df.l > df.ma, 1, 0)\n",
    "df = df.loc[df.ma_up==1, :]\n",
    "c4,l4 = result(df)\n",
    "\n",
    "dfc['指数日线'] = [c1,c2,c3,c4]\n",
    "dfl['指数日线'] = [l1,l2,l3,l4]"
   ]
  },
  {
   "cell_type": "markdown",
   "metadata": {},
   "source": [
    "## 过滤数据 主连小时线"
   ]
  },
  {
   "cell_type": "code",
   "execution_count": 5,
   "metadata": {},
   "outputs": [
    {
     "name": "stdout",
     "output_type": "stream",
     "text": [
      "收盘价比前一天收盘价高的概率 54.3% \n",
      "最低价比前一天最低价高的概率 60.7%\n",
      "收盘价比前一天收盘价高的概率 56.8% \n",
      "最低价比前一天最低价高的概率 65.0%\n",
      "收盘价比前一天收盘价高的概率 55.3% \n",
      "最低价比前一天最低价高的概率 61.6%\n",
      "收盘价比前一天收盘价高的概率 58.6% \n",
      "最低价比前一天最低价高的概率 67.0%\n",
      "          主连日线  主连小时线  指数日线  指数小时线\n",
      "DKXb向上    51.9   51.4  54.3   54.3\n",
      "K线高于DKXb  54.4   54.5  56.3   56.8\n",
      "ma向上      52.4   52.3  54.3   55.3\n",
      "K线高于ma    55.3   56.1  56.2   58.6\n",
      "          主连日线  主连小时线  指数日线  指数小时线\n",
      "DKXb向上    57.3   58.2  59.7   60.7\n",
      "K线高于DKXb  61.2   62.6  63.7   65.0\n",
      "ma向上      59.2   58.4  61.1   61.6\n",
      "K线高于ma    63.6   64.8  65.4   67.0\n"
     ]
    }
   ],
   "source": [
    "# 过滤出DKX 的b线 向上的数据\n",
    "df = ready('zsh')\n",
    "df['DKX_b_up'] = np.where(df.b > df.b.shift(1), 1, 0)\n",
    "df = df.loc[df.DKX_b_up==1,:]\n",
    "c1,l1 = result(df)\n",
    "\n",
    "# 过滤出k线比DKX b线 高的数据\n",
    "df = ready('zsh')\n",
    "df['higher_DKX'] = np.where(df.l > df.b, 1, 0)\n",
    "df = df.loc[df.higher_DKX==1,:]\n",
    "c2,l2 = result(df)\n",
    "\n",
    "# 过滤出ma向上的数据\n",
    "df = ready('zsh')\n",
    "df['ma_up'] = np.where(df.ma > df.ma.shift(1), 1, 0)\n",
    "df = df.loc[df.ma_up==1, :]\n",
    "c3,l3 = result(df)\n",
    "\n",
    "# k线在ma上的数据\n",
    "df = ready('zsh')\n",
    "df['ma_up'] = np.where(df.l > df.ma, 1, 0)\n",
    "df = df.loc[df.ma_up==1, :]\n",
    "c4,l4 = result(df)\n",
    "\n",
    "dfc['指数小时线'] = [c1,c2,c3,c4]\n",
    "dfl['指数小时线'] = [l1,l2,l3,l4]\n",
    "dfc = dfc.astype(float)\n",
    "dfl = dfl.astype(float)\n",
    "print(dfc)\n",
    "print(dfl)"
   ]
  },
  {
   "cell_type": "code",
   "execution_count": 6,
   "metadata": {},
   "outputs": [
    {
     "data": {
      "image/png": "[encoded data removed]",
      "text/plain": [
       "<matplotlib.figure.Figure at 0x5704940>"
      ]
     },
     "metadata": {},
     "output_type": "display_data"
    }
   ],
   "source": [
    "plt.rcParams['font.sans-serif'] = ['SimHei'] \n",
    "ax = sns.heatmap(dfc, center=60, linewidths=1, \n",
    "                 cmap=\"RdBu\", vmin=50, vmax=70, annot=True)\n",
    "ax.set_xticklabels(ax.xaxis.get_majorticklabels(), rotation=0)\n",
    "ax.set_yticklabels(ax.yaxis.get_majorticklabels(), rotation=0)\n",
    "plt.show()"
   ]
  },
  {
   "cell_type": "code",
   "execution_count": 7,
   "metadata": {},
   "outputs": [
    {
     "data": {
      "image/png": "[encoded data removed]",
      "text/plain": [
       "<matplotlib.figure.Figure at 0x9b6fe10>"
      ]
     },
     "metadata": {},
     "output_type": "display_data"
    }
   ],
   "source": [
    "plt.rcParams['font.sans-serif'] = ['SimHei'] \n",
    "ax = sns.heatmap(dfl, center=60, linewidths=1, \n",
    "                 cmap=\"RdBu\", vmin=50, vmax=70, annot=True)\n",
    "ax.set_xticklabels(ax.xaxis.get_majorticklabels(), rotation=0)\n",
    "ax.set_yticklabels(ax.yaxis.get_majorticklabels(), rotation=0)\n",
    "plt.show()"
   ]
  },
  {
   "cell_type": "code",
   "execution_count": null,
   "metadata": {
    "collapsed": true
   },
   "outputs": [],
   "source": []
  }
 ],
 "metadata": {
  "kernelspec": {
   "display_name": "Python 3",
   "language": "python",
   "name": "python3"
  },
  "language_info": {
   "codemirror_mode": {
    "name": "ipython",
    "version": 3
   },
   "file_extension": ".py",
   "mimetype": "text/x-python",
   "name": "python",
   "nbconvert_exporter": "python",
   "pygments_lexer": "ipython3",
   "version": "3.6.2"
  }
 },
 "nbformat": 4,
 "nbformat_minor": 2
}
