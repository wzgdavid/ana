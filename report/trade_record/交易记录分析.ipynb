{
 "cells": [
  {
   "cell_type": "markdown",
   "metadata": {},
   "source": [
    "\n",
    "分析自己的交易记录\n",
    "\n",
    "时间段 20150331 到 20171220  共356次交易\n",
    "\n",
    "无关策略，策略中间有小的变化\n"
   ]
  },
  {
   "cell_type": "code",
   "execution_count": 24,
   "metadata": {},
   "outputs": [
    {
     "name": "stdout",
     "output_type": "stream",
     "text": [
      "盈利比例  31.5%\n",
      "总盈亏  -40190元\n"
     ]
    }
   ],
   "source": [
    "import pandas as pd\n",
    "import numpy as np\n",
    "import matplotlib.pyplot as plt\n",
    "import seaborn as sns\n",
    "sns.set_style(\"darkgrid\")# darkgrid , whitegrid , dark , white ,和 ticks \n",
    "\n",
    "plt.rcParams['font.sans-serif'] = ['SimHei'] # 画图显示中文\n",
    "\n",
    "df = pd.read_csv('trade_record.csv', encoding='gbk')\n",
    "df = df.sort_values(by='开仓日期').reset_index().drop(['Unnamed: 0', 'index'],axis=1)\n",
    "\n",
    "df['盈亏'] = df['逐笔平仓盈亏'].apply(lambda y:1 if y>0 else -1) # 盈利 1  亏损 -1 （平仓大于0盈利，反之亏损）\n",
    "总盈亏 = df['逐笔平仓盈亏'].sum()\n",
    "yk = df['盈亏'].value_counts()\n",
    "盈利比例 = yk[1]/(yk[1]+yk[-1]) * 100\n",
    "盈利比例 = round(盈利比例, 1)\n",
    "print('盈利比例  {}%'.format(盈利比例))\n",
    "print('总盈亏  {}元'.format(总盈亏))  # 没包含手续费"
   ]
  },
  {
   "cell_type": "markdown",
   "metadata": {},
   "source": [
    "#### 看每个品种单独的交易次数和盈亏"
   ]
  },
  {
   "cell_type": "code",
   "execution_count": 25,
   "metadata": {},
   "outputs": [
    {
     "data": {
      "image/png": "[encoded data removed]",
      "text/plain": [
       "<matplotlib.figure.Figure at 0xbffc9e8>"
      ]
     },
     "metadata": {},
     "output_type": "display_data"
    },
    {
     "data": {
      "image/png": "[encoded data removed]",
      "text/plain": [
       "<matplotlib.figure.Figure at 0xc32c5f8>"
      ]
     },
     "metadata": {},
     "output_type": "display_data"
    }
   ],
   "source": [
    "def heyue_name(heyue):\n",
    "    '''提取品种名'''\n",
    "    rtn = ''\n",
    "    for c in heyue:\n",
    "        if c.isalpha():\n",
    "            rtn += c\n",
    "        else:\n",
    "            break\n",
    "    #print(rtn)\n",
    "    return rtn\n",
    "\n",
    "df['品种'] = df['合约'].apply(heyue_name)\n",
    "pzcnt = df['品种'].value_counts()\n",
    "#print('每个品种的交易次数')\n",
    "#print(pzcnt) # 每个品种的交易次数\n",
    "pzcnt.plot(kind='bar')\n",
    "plt.title('每个品种交易次数')\n",
    "plt.show()\n",
    "\n",
    "pzyk = df.groupby('品种')['逐笔平仓盈亏'].sum()\n",
    "pzyk = pzyk.sort_values(ascending=False)\n",
    "#print('每个品种盈亏')\n",
    "#print(pzyk) # 每个品种盈亏\n",
    "pzyk.plot(kind='bar')\n",
    "plt.title('每个品种盈亏')\n",
    "plt.show()"
   ]
  },
  {
   "cell_type": "code",
   "execution_count": 26,
   "metadata": {},
   "outputs": [
    {
     "name": "stdout",
     "output_type": "stream",
     "text": [
      "这几个品种盈利比例\n",
      "rb : 34.2%\n",
      "MA : 40.3%\n",
      "m : 27.3%\n",
      "c : 28.6%\n",
      "hc : 27.3%\n",
      "y : 41.7%\n"
     ]
    }
   ],
   "source": [
    "def ykbl(df, hue):\n",
    "    '''计算盈亏比例'''\n",
    "    ratio = df[hue][1]/(df[hue][1]+df[hue][-1])\n",
    "    return '{} : {}%'.format( hue, round(ratio*100, 1) )\n",
    "\n",
    "# 每个品种盈利比例 \n",
    "df1 = df.groupby(['品种', '盈亏']).sum()['手数']\n",
    "print('这几个品种盈利比例')\n",
    "print(ykbl(df1, 'rb'))\n",
    "print(ykbl(df1, 'MA'))\n",
    "print(ykbl(df1, 'm' ))\n",
    "print(ykbl(df1, 'c' ))\n",
    "print(ykbl(df1, 'hc'))\n",
    "print(ykbl(df1, 'y' ))"
   ]
  },
  {
   "cell_type": "markdown",
   "metadata": {},
   "source": [
    "交易次数最多的是rb 79次    总体盈利-5000                                                盈利比例   34.2%\n",
    "\n",
    "    第二多      MA 60次            -260   （比想象中好）                                           40.3%\n",
    "\n",
    "    第三多      m  42              -7700   (感觉走势不明显，好久没碰)                              27.3%\n",
    "\n",
    "而 盈利做多     c 交易 25次   盈利  5650  （比想象中好）(感觉走势不明显，好久没碰)                 28.6%\n",
    "\n",
    "    第二多      hc     11次         1630  （比想象中好）                                           27.3%\n",
    "\n",
    "    第三多      y      12           360   （比想象中好）(感觉走势不明显，好久没碰)                 41.7%\n",
    "\n",
    "可见盈利和交易次数完全没关系，所以要控制住自己的心，要适当地远离市场\n",
    "\n",
    "和比例的关系也不大，还是要看收益预期\n",
    "\n",
    "所以后面就看盈亏，不比较次数和比例"
   ]
  },
  {
   "cell_type": "markdown",
   "metadata": {},
   "source": [
    "#### 看多空"
   ]
  },
  {
   "cell_type": "code",
   "execution_count": 27,
   "metadata": {},
   "outputs": [
    {
     "name": "stdout",
     "output_type": "stream",
     "text": [
      "buy : 34.6% sell : 25.0%\n",
      "开仓方向\n",
      "buy     -4075\n",
      "sell   -36115\n",
      "Name: 逐笔平仓盈亏, dtype: int64\n"
     ]
    }
   ],
   "source": [
    "df2 = df.groupby(['开仓方向', '盈亏']).sum()['手数']\n",
    "print(ykbl(df2, 'buy'),  ykbl(df2, 'sell'))  # 可见做多盈利比例更高\n",
    "\n",
    "df3 = df.groupby('开仓方向').sum()\n",
    "print(df3['逐笔平仓盈亏'])"
   ]
  },
  {
   "cell_type": "markdown",
   "metadata": {},
   "source": [
    "做多 243次   平仓盈亏 -4075    平均单次 -16.8\n",
    "\n",
    "做空 136次            -36115             -265\n",
    "\n",
    "看出做多比做空 结果好很多啊  ？\n",
    "\n",
    "做多更好？是不是因为这个时间段总体是偏多\n",
    "\n",
    "那把所有数据分成三个时间段，再看看是不是也是这三个时间段做多比做空好\n",
    "\n",
    "一共356条记录 分成  120条左右一段"
   ]
  },
  {
   "cell_type": "code",
   "execution_count": 28,
   "metadata": {},
   "outputs": [
    {
     "name": "stdout",
     "output_type": "stream",
     "text": [
      "--------------分三个时间段----------------\n",
      "开仓方向\n",
      "buy    -10585\n",
      "sell   -13350\n",
      "Name: 逐笔平仓盈亏, dtype: int64\n",
      "开仓方向\n",
      "buy     5120\n",
      "sell   -6545\n",
      "Name: 逐笔平仓盈亏, dtype: int64\n",
      "开仓方向\n",
      "buy      1390\n",
      "sell   -16220\n",
      "Name: 逐笔平仓盈亏, dtype: int64\n"
     ]
    }
   ],
   "source": [
    "print('--------------分三个时间段----------------')\n",
    "df_s1 = df.iloc[:119, :]\n",
    "df_s2 = df.iloc[119:238, :]\n",
    "df_s3 = df.iloc[238:, :]\n",
    "\n",
    "print(df_s1.groupby('开仓方向').sum()['逐笔平仓盈亏'])\n",
    "print(df_s2.groupby('开仓方向').sum()['逐笔平仓盈亏'])\n",
    "print(df_s3.groupby('开仓方向').sum()['逐笔平仓盈亏'])"
   ]
  },
  {
   "cell_type": "markdown",
   "metadata": {},
   "source": [
    "可见也是做多好于做空， 说明做空确实是比较难，（或者说我的操作方式不适合做空）\n",
    "\n",
    "#### 在交易次数最多的几个品种 rb MA m  jd 上看是否也是这样。交易次数少的不看"
   ]
  },
  {
   "cell_type": "code",
   "execution_count": 29,
   "metadata": {},
   "outputs": [
    {
     "name": "stdout",
     "output_type": "stream",
     "text": [
      "品种  开仓方向\n",
      "MA  buy      1860\n",
      "    sell    -2120\n",
      "jd  buy     -3970\n",
      "    sell    -1740\n",
      "m   buy     -4450\n",
      "    sell    -3250\n",
      "rb  buy      9300\n",
      "    sell   -14300\n",
      "Name: 逐笔平仓盈亏, dtype: int64\n",
      "---------------这样看不明显，应该要看平均每次的平仓盈亏---------\n",
      "rb 开仓方向\n",
      "buy     178.846154\n",
      "sell   -529.629630\n",
      "dtype: float64\n",
      "MA 开仓方向\n",
      "buy     54.705882\n",
      "sell   -75.714286\n",
      "dtype: float64\n",
      "m 开仓方向\n",
      "buy    -148.333333\n",
      "sell   -232.142857\n",
      "dtype: float64\n",
      "jd 开仓方向\n",
      "buy    -172.608696\n",
      "sell   -248.571429\n",
      "dtype: float64\n",
      "c 开仓方向\n",
      "buy      92.692308\n",
      "sell    360.000000\n",
      "dtype: float64\n"
     ]
    }
   ],
   "source": [
    "df1 = df.groupby(['品种', '开仓方向']).sum()\n",
    "#print(df1)\n",
    "#print(df1['逐笔平仓盈亏'])\n",
    "print(df1['逐笔平仓盈亏'][['rb', 'MA', 'm','jd']])\n",
    "\n",
    "print('''---------------这样看不明显，应该要看平均每次的平仓盈亏---------''')\n",
    "print('rb', df1['逐笔平仓盈亏']['rb']/df1['手数']['rb'])\n",
    "print('MA', df1['逐笔平仓盈亏']['MA']/df1['手数']['MA'])\n",
    "print('m', df1['逐笔平仓盈亏']['m']/df1['手数']['m'])\n",
    "print('jd', df1['逐笔平仓盈亏']['jd']/df1['手数']['jd'])\n",
    "print('c', df1['逐笔平仓盈亏']['c']/df1['手数']['c'])\n"
   ]
  },
  {
   "cell_type": "markdown",
   "metadata": {},
   "source": [
    "#### 可见做多比做空好多啦（但不能这样想，多空还是都要做，空少做，而且更要小心,要么说明我的做法不适合做空，做空用别的方法）"
   ]
  },
  {
   "cell_type": "markdown",
   "metadata": {},
   "source": [
    "#### 看一段时间内的盈亏是否和交易频繁相关"
   ]
  },
  {
   "cell_type": "code",
   "execution_count": 30,
   "metadata": {},
   "outputs": [
    {
     "name": "stdout",
     "output_type": "stream",
     "text": [
      "-------------------------------------\n"
     ]
    },
    {
     "data": {
      "image/png": "[encoded data removed]",
      "text/plain": [
       "<matplotlib.figure.Figure at 0xbf2af28>"
      ]
     },
     "metadata": {},
     "output_type": "display_data"
    },
    {
     "data": {
      "image/png": "[encoded data removed]",
      "text/plain": [
       "<matplotlib.figure.Figure at 0xc2ca0f0>"
      ]
     },
     "metadata": {},
     "output_type": "display_data"
    }
   ],
   "source": [
    "print('-------------------------------------')\n",
    "def readyto_date(date):\n",
    "    '''20170211 这种形式不能转成DatatimeIndex     2016/12/28  这种可以'''\n",
    "    date = str(date)\n",
    "    year = date[:4]\n",
    "    month = date[4:6]\n",
    "    day = date[6:]\n",
    "    return '/'.join([year, month, day])\n",
    "\n",
    "df_dateidx = df.copy()\n",
    "df_dateidx['开仓日期'] = df_dateidx['开仓日期'].apply(readyto_date)\n",
    "df_dateidx.index = pd.DatetimeIndex(df_dateidx['开仓日期'])\n",
    "df_dateidx = df_dateidx.drop('开仓日期', axis=1)\n",
    "#print(df_alldate.index)\n",
    "#df_alldate.to_csv('df_alldate.csv')\n",
    "#print( df['逐笔平仓盈亏'].resample('B') )\n",
    "\n",
    "# 逐月盈亏\n",
    "zb = df_dateidx['逐笔平仓盈亏']\n",
    "#yk = zb.resample('M').sum()\n",
    "#yk.plot(kind='bar')\n",
    "#plt.show()    \n",
    "\n",
    "# 逐季度作图\n",
    "# 逐季度盈亏   \n",
    "\n",
    "plt.title('季度盈亏')\n",
    "yk = zb.resample('Q').sum()\n",
    "yk.plot(kind='bar')\n",
    "plt.show() \n",
    "'''\n",
    "注意， 现在的资金比初期多, 如果按百分比算的话，应该是比初期要好的\n",
    "'''\n",
    "# 逐季度交易次数\n",
    "kc = df_dateidx['开仓方向']\n",
    "kcq = kc.resample('Q').count()\n",
    "plt.title('季度交易次数')\n",
    "kcq.plot(kind='bar')\n",
    "plt.show()  "
   ]
  },
  {
   "cell_type": "markdown",
   "metadata": {},
   "source": [
    "由上图  以季度看下来盈亏和交易次数关系应该不大，交易还是要看时机"
   ]
  },
  {
   "cell_type": "markdown",
   "metadata": {},
   "source": [
    "### 最近看到一本书<以交易为生>，里面讲到三重过滤，那我以这个思路用日线和周线两个周期是否都顺势来过滤一下自己的交易记录，看看顺势和非顺势有没有明显区别（我这里都不是严格的科学计算，不用什么显著性分析，因为这些区别很明显，用不到那些东西，交易的本质是交易本身，编程和数学只是工具，不能本末倒置，钻牛角尖）"
   ]
  },
  {
   "cell_type": "code",
   "execution_count": 31,
   "metadata": {
    "collapsed": true
   },
   "outputs": [],
   "source": [
    "def get_DKX(df, n=10):\n",
    "    df['a'] = (df.c * 3 + df.l + df.o + df.h)/6\n",
    "    sum_ = '+'.join(['{}*df.a.shift({})'.format(20-i, i) for i in range(0, 20)]) \n",
    "    eval_str = '({})/210'.format(sum_)\n",
    "    df['b'] = eval(eval_str)\n",
    "    df['d'] = df.b.rolling(n).mean()\n",
    "    return df.drop(['a'], axis=1)"
   ]
  },
  {
   "cell_type": "code",
   "execution_count": 32,
   "metadata": {},
   "outputs": [
    {
     "name": "stdout",
     "output_type": "stream",
     "text": [
      "--------------------顺势平均单次盈亏------------\n",
      "49.7058823529\n",
      "--------------------逆势平均单次盈亏------------\n",
      "-148.666666667\n"
     ]
    }
   ],
   "source": [
    "# 分品种看   \n",
    "name = 'rb' # name换一个可看其他品种\n",
    "dff = df_dateidx[df_dateidx['品种'] == name].copy()   # 对应品种的交易记录\n",
    "\n",
    "kdata = pd.read_csv(r'..\\..\\data\\{}.csv'.format(name)) # 对应品种的数据\n",
    "kdata = get_DKX(kdata)\n",
    "kdata.index = pd.DatetimeIndex(kdata['date'])\n",
    "kdata['斜率'] = (kdata.b / kdata.d.shift(1))  # 斜率指DKX的斜率\n",
    "kdata = kdata.dropna(axis=0)\n",
    "# 开仓当天的斜率\n",
    "\n",
    "dff['斜率'] = kdata.loc[dff.index,:]['斜率']\n",
    "\n",
    "dff['斜率上下'] = np.where(dff['斜率']>1, 'up', 'down')\n",
    "# 斜率向上买， 向下卖是顺势\n",
    "# 日线顺势\n",
    "dff['日线顺势'] = np.where( (dff['斜率']>1) & (dff['开仓方向'] == 'buy' ), True, False)\n",
    "dff['日线顺势'] = np.where( (dff['斜率']<1) & (dff['开仓方向'] == 'sell' ), True, dff['日线顺势'])\n",
    "#print(dff.head(30))\n",
    "\n",
    "# 周线顺势\n",
    "kdata_week = kdata.c.resample('W').ohlc()\n",
    "kdata_week.columns=list('ohlc')\n",
    "kdata_week = kdata_week.dropna(axis=0) # 国庆长假啥的没数据，会出NaN\n",
    "kdata_week = get_DKX(kdata_week).dropna(axis=0)\n",
    "kdata_week['斜率'] = (kdata_week.b / kdata_week.d.shift(1))  # 斜率指DKX的斜率\n",
    "kdata_week = kdata_week.dropna(axis=0)\n",
    "#print(kdata_week)\n",
    "\n",
    "kdata_week_today = kdata_week.resample('D').ffill() # 把计算出来的周线的数据映射到日线上\n",
    "#print(kdata_week_today)\n",
    "\n",
    "dff['周线斜率'] = kdata_week_today.loc[dff.index,:]['斜率']\n",
    "# 周线顺势\n",
    "dff['周线顺势'] = np.where( (dff['周线斜率']>1) & (dff['开仓方向'] == 'buy' ), True, False)\n",
    "dff['周线顺势'] = np.where( (dff['周线斜率']<1) & (dff['开仓方向'] == 'sell' ), True, dff['周线顺势'])\n",
    "\n",
    "\n",
    "dff['日周都顺势'] = np.where( (dff['周线顺势']==True) & (dff['日线顺势']==True), True, False)\n",
    "\n",
    "#print(dff[['日线顺势','周线顺势','日周都顺势']] )\n",
    "\n",
    "# 光日线顺势\n",
    "#syk = dff.groupby('日线顺势').sum()['逐笔平仓盈亏']  #  顺势和逆势的盈亏\n",
    "#ccs = dff['日线顺势'].value_counts()           #  顺势和逆势交易次数\n",
    "# 光周线顺势\n",
    "#syk = dff.groupby('周线顺势').sum()['逐笔平仓盈亏']  #  顺势和逆势的盈亏\n",
    "#ccs = dff['周线顺势'].value_counts()           #  顺势和逆势交易次数\n",
    "# 日周都顺势\n",
    "syk = dff.groupby('日周都顺势').sum()['逐笔平仓盈亏']  #  顺势和逆势的盈亏\n",
    "ccs = dff['日周都顺势'].value_counts()           #  顺势和逆势交易次数\n",
    "\n",
    "#print(syk)\n",
    "#print(ccs)  #\n",
    "print('--------------------顺势平均单次盈亏------------')\n",
    "print(syk[True]/ccs[True])  \n",
    "print('--------------------逆势平均单次盈亏------------')   \n",
    "print(syk[False]/ccs[False]) "
   ]
  },
  {
   "cell_type": "markdown",
   "metadata": {},
   "source": [
    "### 可看到，区别很明显，所以三重过滤是真有用，或许会错过点机会，但更多的是可以过滤掉很多不必要的操作。（突然想到克罗的三均线其实也不是三重过滤吗？）用成功人士的方法，再加上用自己的真是记录验证了一下，更有信心了。我现在不缺心态和资金管理，最缺的是合理的方法！\n",
    "### 以后在合适的品种里选大中周期都顺势的做，小周期可以逆势，浮盈顺势加仓，我的大中小周期分别是周线日线小时线。判断顺势的指标不是最重要。我用DKX，我发现用其他的也差不多。"
   ]
  }
 ],
 "metadata": {
  "kernelspec": {
   "display_name": "Python 3",
   "language": "python",
   "name": "python3"
  },
  "language_info": {
   "codemirror_mode": {
    "name": "ipython",
    "version": 3
   },
   "file_extension": ".py",
   "mimetype": "text/x-python",
   "name": "python",
   "nbconvert_exporter": "python",
   "pygments_lexer": "ipython3",
   "version": "3.6.2"
  }
 },
 "nbformat": 4,
 "nbformat_minor": 2
}
