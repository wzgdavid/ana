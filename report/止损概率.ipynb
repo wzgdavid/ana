{
 "cells": [
  {
   "cell_type": "markdown",
   "metadata": {},
   "source": [
    "# 一\n",
    "### 多，今天low大于前**一**天low时，后一天low大于今天low的概率，\n",
    "### 空，今天high小于前**一**天high时，后一天high小于今天high的概率，"
   ]
  },
  {
   "cell_type": "code",
   "execution_count": null,
   "metadata": {
    "collapsed": true
   },
   "outputs": [],
   "source": [
    "# 多\n",
    "df['higher'] = df.l > df.l.shift(1)\n",
    "df['higher1'] = np.where(df.higher, 1, None)\n",
    "df['higher2'] = np.where(df.higher & (df.l.shift(-1) > df.l), 1, None)\n",
    "print 'higher', round(df.higher2.sum() / float(df.higher1.sum()), 2)\n",
    "# 空\n",
    "df['lower'] = df.c < df.c.shift(1)\n",
    "df['lower1'] = np.where(df.lower, 1, None)\n",
    "df['lower2'] = np.where(df.lower & (df.h.shift(-1) < df.h), 1, None)\n",
    "print 'lower', round(df.lower2.sum() / float(df.lower1.sum()), 2)"
   ]
  },
  {
   "cell_type": "markdown",
   "metadata": {},
   "source": [
    "实验结果  \n",
    "ta  \n",
    "duo 0.54  \n",
    "kong 0.56  \n",
    "rb  \n",
    "duo 0.56  \n",
    "kong 0.57  \n",
    "c  \n",
    "duo 0.52  \n",
    "kong 0.5  \n",
    "m  \n",
    "duo 0.52  \n",
    "kong 0.51  \n",
    "a  \n",
    "duo 0.52  \n",
    "kong 0.51  \n",
    "ma  \n",
    "duo 0.55  \n",
    "kong 0.55  \n",
    "jd  \n",
    "duo 0.5  \n",
    "kong 0.52  \n",
    "dy  \n",
    "duo 0.55  \n",
    "kong 0.51  \n",
    "sr  \n",
    "duo 0.53  \n",
    "kong 0.51  "
   ]
  },
  {
   "cell_type": "markdown",
   "metadata": {},
   "source": [
    "# 二\n",
    "### 多，今天low大于前**两**天low时，后一天low大于今天low的概率，\n",
    "### 空，今天high小于前**两**天high时，后一天high小于今天high的概率，"
   ]
  },
  {
   "cell_type": "code",
   "execution_count": null,
   "metadata": {
    "collapsed": true
   },
   "outputs": [],
   "source": [
    "df['higher'] = (df.l > df.l.shift(1)) & (df.l > df.l.shift(2))\n",
    "df['lower'] = (df.h < df.h.shift(1)) & (df.h < df.h.shift(2))"
   ]
  },
  {
   "cell_type": "markdown",
   "metadata": {},
   "source": [
    "实验结果  \n",
    "ta  \n",
    "duo 0.56  \n",
    "kong 0.57  \n",
    "rb  \n",
    "duo 0.57  \n",
    "kong 0.61  \n",
    "c  \n",
    "duo 0.52  \n",
    "kong 0.51  \n",
    "m  \n",
    "duo 0.53  \n",
    "kong 0.52  \n",
    "a  \n",
    "duo 0.52  \n",
    "kong 0.51  \n",
    "ma  \n",
    "duo 0.56  \n",
    "kong 0.56  \n",
    "jd  \n",
    "duo 0.51  \n",
    "kong 0.53  \n",
    "dy  \n",
    "duo 0.56  \n",
    "kong 0.53  \n",
    "sr  \n",
    "duo 0.54  \n",
    "kong 0.50  "
   ]
  },
  {
   "cell_type": "markdown",
   "metadata": {},
   "source": [
    "# 三\n",
    "### 多，今天high大于前**一**天high时，后一天low大于今天low的概率，\n",
    "### 空，今天low小于前**一**天low时，后一天high小于今天high的概率，"
   ]
  },
  {
   "cell_type": "code",
   "execution_count": null,
   "metadata": {
    "collapsed": true
   },
   "outputs": [],
   "source": [
    "df['higher'] = df.h > df.h.shift(1)\n",
    "df['lower'] = df.l < df.l.shift(1)"
   ]
  },
  {
   "cell_type": "markdown",
   "metadata": {},
   "source": [
    "实验结果  \n",
    "ta  \n",
    "duo 0.57  \n",
    "kong 0.62  \n",
    "rb  \n",
    "duo 0.61  \n",
    "kong 0.61  \n",
    "c  \n",
    "duo 0.55  \n",
    "kong 0.55  \n",
    "m  \n",
    "duo 0.55  \n",
    "kong 0.55  \n",
    "a  \n",
    "duo 0.56  \n",
    "kong 0.54  \n",
    "ma  \n",
    "duo 0.61  \n",
    "kong 0.62  \n",
    "jd  \n",
    "duo 0.57  \n",
    "kong 0.58  \n",
    "dy  \n",
    "duo 0.56  \n",
    "kong 0.53  \n",
    "sr  \n",
    "duo 0.56  \n",
    "kong 0.55  "
   ]
  },
  {
   "cell_type": "markdown",
   "metadata": {},
   "source": [
    "# 四\n",
    "### 多，今天high大于前**两**天high时，后一天low大于今天low的概率，\n",
    "### 空，今天low小于前**两**天low时，后一天high小于今天high的概率，"
   ]
  },
  {
   "cell_type": "code",
   "execution_count": null,
   "metadata": {
    "collapsed": true
   },
   "outputs": [],
   "source": [
    "df['higher'] = (df.h > df.h.shift(1)) & (df.h > df.h.shift(2))\n",
    "df['lower'] = (df.l < df.l.shift(1)) & (df.l < df.l.shift(2))"
   ]
  },
  {
   "cell_type": "markdown",
   "metadata": {},
   "source": [
    "实验结果  \n",
    "ta  \n",
    "duo 0.59  \n",
    "kong 0.65  \n",
    "rb  \n",
    "duo 0.64  \n",
    "kong 0.65  \n",
    "c  \n",
    "duo 0.57  \n",
    "kong 0.56  \n",
    "m  \n",
    "duo 0.56  \n",
    "kong 0.57  \n",
    "a  \n",
    "duo 0.59  \n",
    "kong 0.57  \n",
    "ma  \n",
    "duo 0.62  \n",
    "kong 0.67  \n",
    "jd  \n",
    "duo 0.61  \n",
    "kong 0.62  \n",
    "dy  \n",
    "duo 0.60  \n",
    "kong 0.57  \n",
    "sr  \n",
    "duo 0.58  \n",
    "kong 0.56  "
   ]
  },
  {
   "cell_type": "markdown",
   "metadata": {},
   "source": [
    "# 五\n",
    "### 多，今天close大于前**一**天close时，后一天low大于今天low的概率，\n",
    "### 空，今天close小于前**一**天close时，后一天high小于今天high的概率，"
   ]
  },
  {
   "cell_type": "code",
   "execution_count": null,
   "metadata": {
    "collapsed": true
   },
   "outputs": [],
   "source": [
    "df['higher'] = df.c > df.c.shift(1)\n",
    "df['lower'] = df.c < df.c.shift(1)"
   ]
  },
  {
   "cell_type": "markdown",
   "metadata": {},
   "source": [
    "实验结果  \n",
    "ta  \n",
    "duo 0.65  \n",
    "kong 0.69  \n",
    "rb  \n",
    "duo 0.70  \n",
    "kong 0.72  \n",
    "c  \n",
    "duo 0.65  \n",
    "kong 0.65  \n",
    "m  \n",
    "duo 0.60  \n",
    "kong 0.61  \n",
    "a  \n",
    "duo 0.61  \n",
    "kong 0.60 \n",
    "ma  \n",
    "duo 0.69  \n",
    "kong 0.68  \n",
    "jd  \n",
    "duo 0.64  \n",
    "kong 0.67  \n",
    "dy  \n",
    "duo 0.63  \n",
    "kong 0.59  \n",
    "sr  \n",
    "duo 0.66  \n",
    "kong 0.65  "
   ]
  },
  {
   "cell_type": "markdown",
   "metadata": {},
   "source": [
    "# 六\n",
    "### 多，今天close大于前**两**天close时，后一天low大于今天low的概率，\n",
    "### 空，今天close小于前**两**天close时，后一天high小于今天high的概率，"
   ]
  },
  {
   "cell_type": "code",
   "execution_count": null,
   "metadata": {
    "collapsed": true
   },
   "outputs": [],
   "source": [
    "df['higher'] = (df.c > df.c.shift(1)) & (df.c > df.c.shift(2))\n",
    "df['lower'] = (df.c < df.c.shift(1)) & (df.c < df.c.shift(2))"
   ]
  },
  {
   "cell_type": "markdown",
   "metadata": {},
   "source": [
    "实验结果  \n",
    "ta  \n",
    "duo 0.69  \n",
    "kong 0.72  \n",
    "rb  \n",
    "duo 0.73  \n",
    "kong 0.75  \n",
    "c  \n",
    "duo 0.67  \n",
    "kong 0.67  \n",
    "m  \n",
    "duo 0.63  \n",
    "kong 0.64  \n",
    "a  \n",
    "duo 0.64  \n",
    "kong 0.64 \n",
    "ma  \n",
    "duo 0.73  \n",
    "kong 0.72  \n",
    "jd  \n",
    "duo 0.68  \n",
    "kong 0.71  \n",
    "dy  \n",
    "duo 0.66  \n",
    "kong 0.62  \n",
    "sr  \n",
    "duo 0.69  \n",
    "kong 0.67  "
   ]
  },
  {
   "cell_type": "markdown",
   "metadata": {},
   "source": [
    "# 一到六结论，可见close的效果最好，前两天的效果好于一天"
   ]
  },
  {
   "cell_type": "markdown",
   "metadata": {},
   "source": [
    "# 七，在六的基础上加上close大于小于ma20\n",
    "### 多，今天close大于前**两**天close且大于ma20时，后一天low大于今天low的概率，\n",
    "### 空，今天close小于前**两**天close且小于ma20时，后一天high小于今天high的概率，"
   ]
  },
  {
   "cell_type": "code",
   "execution_count": null,
   "metadata": {
    "collapsed": true
   },
   "outputs": [],
   "source": [
    "df['higher'] = (df.c > df.c.shift(1)) & (df.c > df.c.shift(2)) & df.close_higher_than_ma\n",
    "df['lower'] = (df.c < df.c.shift(1)) & (df.c < df.c.shift(2)) & df.close_lower_than_ma"
   ]
  },
  {
   "cell_type": "markdown",
   "metadata": {},
   "source": [
    "实验结果  \n",
    "ta  \n",
    "duo 0.71  \n",
    "kong 0.73  \n",
    "rb  \n",
    "duo 0.76  \n",
    "kong 0.80  \n",
    "c  \n",
    "duo 0.69  \n",
    "kong 0.69  \n",
    "m  \n",
    "duo 0.63  \n",
    "kong 0.67  \n",
    "a  \n",
    "duo 0.64  \n",
    "kong 0.66 \n",
    "ma  \n",
    "duo 0.76  \n",
    "kong 0.71  \n",
    "jd  \n",
    "duo 0.73  \n",
    "kong 0.74  \n",
    "dy  \n",
    "duo 0.66  \n",
    "kong 0.64  \n",
    "sr  \n",
    "duo 0.72  \n",
    "kong 0.68\n",
    "##### 可见加上ma效果会好一点，而且有ma也就有了方向"
   ]
  },
  {
   "cell_type": "markdown",
   "metadata": {},
   "source": [
    "# 八，在七的基础上\n",
    "### 多，今天close大于前**两**天close且大于ma20时，后一天low大于前两天low的概率，\n",
    "### 空，今天close小于前**两**天close且小于ma20时，后一天high小于前两天high的概率，"
   ]
  },
  {
   "cell_type": "code",
   "execution_count": null,
   "metadata": {
    "collapsed": true
   },
   "outputs": [],
   "source": [
    "# 多\n",
    "df['higher'] = (df.c > df.c.shift(1)) & (df.c > df.c.shift(2)) & df.close_higher_than_ma\n",
    "df['higher1'] = np.where(df.higher, 1, None)\n",
    "df['higher2'] = np.where(df.higher & (df.l.shift(-1) > df.nll.shift(-1)), 1, None)\n",
    "# 空\n",
    "df['lower'] = (df.c < df.c.shift(1)) & (df.c < df.c.shift(2)) & df.close_lower_than_ma\n",
    "df['lower1'] = np.where(df.lower, 1, None)\n",
    "df['lower2'] = np.where(df.lower & (df.h.shift(-1) < df.nhh.shift(-1)), 1, None)"
   ]
  },
  {
   "cell_type": "markdown",
   "metadata": {},
   "source": [
    "实验结果  \n",
    "ta  \n",
    "duo 0.9  \n",
    "kong 0.89  \n",
    "rb  \n",
    "duo 0.91  \n",
    "kong 0.93  \n",
    "c  \n",
    "duo 0.89  \n",
    "kong 0.89  \n",
    "m  \n",
    "duo 0.87  \n",
    "kong 0.88  \n",
    "a  \n",
    "duo 0.85  \n",
    "kong 0.89 \n",
    "ma  \n",
    "duo 0.9  \n",
    "kong 0.89  \n",
    "jd  \n",
    "duo 0.91  \n",
    "kong 0.91  \n",
    "dy  \n",
    "duo 0.85  \n",
    "kong 0.87  \n",
    "sr  \n",
    "duo 0.9  \n",
    "kong 0.89\n",
    "##### 可见止损改成前两天的低点，后一天当天不止损的概率大了很多"
   ]
  },
  {
   "cell_type": "markdown",
   "metadata": {},
   "source": [
    "# 九，在七的基础上，七天的移动止损\n",
    "### 多，今天close大于前**两**天close且大于ma20时，后七天low大于今天low的概率（不止损的概率），\n",
    "### 空，今天close小于前**两**天close且小于ma20时，后七天high小于今天high的概率，"
   ]
  },
  {
   "cell_type": "code",
   "execution_count": null,
   "metadata": {
    "collapsed": true
   },
   "outputs": [],
   "source": [
    "df['higher'] = (df.c > df.c.shift(1)) & (df.c > df.c.shift(2)) & df.close_higher_than_ma\n",
    "df['higher1'] = np.where(df.higher, 1, None)\n",
    "df['higher2'] = np.where(df.higher & (df.mll.shift(-1) > df.l), 1, None)\n",
    "# 空\n",
    "df['lower'] = (df.c < df.c.shift(1)) & (df.c < df.c.shift(2)) & df.close_lower_than_ma\n",
    "df['lower1'] = np.where(df.lower, 1, None)\n",
    "df['lower2'] = np.where(df.lower & (df.mhh.shift(-1) < df.h), 1, None)"
   ]
  },
  {
   "cell_type": "markdown",
   "metadata": {},
   "source": [
    "实验结果  \n",
    "ta  \n",
    "duo 0.36  \n",
    "kong 0.40  \n",
    "rb  \n",
    "duo 0.43  \n",
    "kong 0.50  \n",
    "c  \n",
    "duo 0.37  \n",
    "kong 0.35  \n",
    "m  \n",
    "duo 0.34  \n",
    "kong 0.36  \n",
    "a  \n",
    "duo 0.32  \n",
    "kong 0.32 \n",
    "ma  \n",
    "duo 0.39  \n",
    "kong 0.36  \n",
    "jd  \n",
    "duo 0.38  \n",
    "kong 0.37  \n",
    "dy  \n",
    "duo 0.33  \n",
    "kong 0.29  \n",
    "sr  \n",
    "duo 0.36  \n",
    "kong 0.33\n",
    "#### 大概3成的概率不在开仓止损平仓，可见概率不高，所以要人为的过滤掉一些盘整，要等趋势明显时做"
   ]
  }
 ],
 "metadata": {
  "kernelspec": {
   "display_name": "Python 2",
   "language": "python",
   "name": "python2"
  },
  "language_info": {
   "codemirror_mode": {
    "name": "ipython",
    "version": 2
   },
   "file_extension": ".py",
   "mimetype": "text/x-python",
   "name": "python",
   "nbconvert_exporter": "python",
   "pygments_lexer": "ipython2",
   "version": "2.7.13"
  }
 },
 "nbformat": 4,
 "nbformat_minor": 2
}
