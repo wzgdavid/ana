{
 "cells": [
  {
   "cell_type": "markdown",
   "metadata": {},
   "source": [
    "## 根据简单指标构建趋势，然后验证指数向趋势方向运行的概率"
   ]
  },
  {
   "cell_type": "markdown",
   "metadata": {},
   "source": [
    "## 由前得出的结论，接着看\n",
    "## 1,向上的趋势中，低点比前两天低点高的概率\n",
    "## 2,向下的趋势中，高点比前两天高点低的概率\n",
    "## "
   ]
  },
  {
   "cell_type": "markdown",
   "metadata": {},
   "source": [
    "### 做多"
   ]
  },
  {
   "cell_type": "code",
   "execution_count": 20,
   "metadata": {
    "collapsed": true
   },
   "outputs": [],
   "source": [
    "import numpy as np\n",
    "import pandas as pd\n",
    "import matplotlib.pyplot as plt\n",
    "import seaborn as sns\n",
    "\n",
    "#df = pd.read_csv(r'E:\\workspace\\qqqhhh\\data\\rb\\zl.csv')  # 螺纹主连日线\n",
    "#df = pd.read_csv(r'E:\\workspace\\qqqhhh\\data\\rb\\zlh.csv') # 螺纹主连小时线\n",
    "#df = pd.read_csv(r'E:\\workspace\\qqqhhh\\data\\rb\\zs.csv')  # 螺纹指数日线\n",
    "#df = pd.read_csv(r'E:\\workspace\\qqqhhh\\data\\rb\\zsh.csv') # 螺纹指数小时线\n",
    "\n",
    "#构建指标\n",
    "def get_DKX(df, n=10):\n",
    "    df['a'] = (df.c * 3 + df.l + df.o + df.h)/6\n",
    "    df['b'] = (20*df.a + 19*df.a.shift(1) + 18*df.a.shift(2) + 17*df.a.shift(3) + \n",
    "        16*df.a.shift(4) + 15*df.a.shift(5) + 14*df.a.shift(6) + \n",
    "        13*df.a.shift(7) + 12*df.a.shift(8) + 11*df.a.shift(9) + \n",
    "        10*df.a.shift(10) + 9*df.a.shift(11) + 8*df.a.shift(12) + 7*df.a.shift(13) + \n",
    "        6*df.a.shift(14) + 5*df.a.shift(15) + 4*df.a.shift(16) + \n",
    "        3*df.a.shift(17) + 2*df.a.shift(18) + 1*df.a.shift(19))/210\n",
    "    df['d'] = df.b.rolling(n).mean()\n",
    "    return df.drop(['a'], axis=1)\n",
    "def get_nhh(df, n):\n",
    "    '''前n天最高价最高点（不包含当天）'''\n",
    "    df['nhh'] = df.h.shift(1).rolling(window=n, center=False).max()\n",
    "    return df\n",
    "def get_nll(df, n):\n",
    "    '''前n天最低点（不包含当天）'''\n",
    "    df['nll'] = df.l.shift(1).rolling(window=n, center=False).min()\n",
    "    return df\n",
    "\n",
    "\n",
    "# 显示结果的函数\n",
    "def result(df):\n",
    "    '''df is dataframe'''\n",
    "    df['c_up'] = np.where( df.c > df.c.shift(1), 1, 0 )\n",
    "    gailvc = np.round(df.c_up.sum()/df.shape[0], 3) * 100\n",
    "    gailvc = str(gailvc)[:4]\n",
    "    \n",
    "    df['l_up'] = np.where( df.l > df.nll, 1, 0 ) # 这样就是最低点比前两天最低点高\n",
    "    gailvl = round(df.l_up.sum()/df.shape[0], 3) * 100\n",
    "    gailvl = str(gailvl)[:4]\n",
    "    \n",
    "    df['o_up'] = np.where( df.o > df.o.shift(1), 1, 0 )\n",
    "    gailvo = round(df.o_up.sum()/df.shape[0], 3) * 100\n",
    "    gailvo = str(gailvo)[:4]\n",
    "    \n",
    "    \n",
    "    df['h_up'] = np.where( df.h > df.h.shift(1), 1, 0 )\n",
    "    gailvh = round(df.h_up.sum()/df.shape[0], 3) * 100\n",
    "    gailvh = str(gailvh)[:4]\n",
    "    return gailvo, gailvc, gailvh, gailvl\n",
    "\n",
    "def ready(whichdata):\n",
    "    df = pd.read_csv(r'E:\\workspace\\qqqhhh\\data\\rb\\{}.csv'.format(whichdata))\n",
    "    df = get_DKX(df) \n",
    "    df = get_nhh(df, 2)\n",
    "    df = get_nll(df, 2)\n",
    "\n",
    "    df['ma'] = df.c.rolling(window=20, center=False).mean()\n",
    "    return df.copy()\n",
    "\n",
    "columns = ['主连日线','主连小时线','指数日线','指数小时线']\n",
    "# 前4个同向的概率，后4个反向\n",
    "index = ['DKXb向上','K线高于DKXb','ma向上','K线高于ma','DKXb向下','K线低于DKXb','ma向下','K线低于ma']\n",
    "# 收盘价各种情况比较\n",
    "dfc = pd.DataFrame(index=index, columns=columns)\n",
    "# 最低价各种情况比较\n",
    "dfl = pd.DataFrame(index=index, columns=columns)\n",
    "# 收盘价各种情况比较\n",
    "dfo = pd.DataFrame(index=index, columns=columns)\n",
    "# 最低价各种情况比较\n",
    "dfh = pd.DataFrame(index=index, columns=columns)\n",
    "\n"
   ]
  },
  {
   "cell_type": "code",
   "execution_count": 26,
   "metadata": {},
   "outputs": [],
   "source": [
    "# 条件筛选，后的数据\n",
    "def process(data, column, result_func=result):\n",
    "    # 过滤出DKX 的b线 向上的数据\n",
    "    df = ready(data)\n",
    "    df['contidion'] = np.where( df.b.shift(1) > df.b.shift(2), 1, 0)\n",
    "    df = df.loc[df.contidion==1,:]\n",
    "    o1, c1, h1, l1 = result_func(df)\n",
    "    \n",
    "    # 过滤出DKX 的b线 向下的数据\n",
    "    df = ready(data)\n",
    "    df['contidion'] = np.where(df.b.shift(1) < df.b.shift(2), 1, 0)\n",
    "    df = df.loc[df.contidion==1,:]\n",
    "    o1b, c1b, h1b, l1b = result_func(df)\n",
    "    \n",
    "    # 过滤出close比DKX b线 高的数据\n",
    "    df = ready(data)\n",
    "    df['contidion'] = np.where(df.c.shift(1) > df.b.shift(1), 1, 0)\n",
    "    df = df.loc[df.contidion==1,:]\n",
    "    o2, c2, h2, l2 = result_func(df)\n",
    "    \n",
    "    # 过滤出close比DKX b线 低的数据\n",
    "    df = ready(data)\n",
    "    df['contidion'] = np.where(df.c.shift(1) < df.b.shift(1), 1, 0)\n",
    "    df = df.loc[df.contidion==1,:]\n",
    "    o2b, c2b, h2b, l2b = result_func(df)\n",
    "    \n",
    "    # 过滤出ma向上的数据\n",
    "    df = ready(data)\n",
    "    df['contidion'] = np.where(df.ma.shift(1) > df.ma.shift(2), 1, 0)\n",
    "    df = df.loc[df.contidion==1, :]\n",
    "    o3, c3, h3, l3 = result_func(df)\n",
    "    \n",
    "    # 过滤出ma向下的数据\n",
    "    df = ready(data)\n",
    "    df['contidion'] = np.where(df.ma.shift(1) < df.ma.shift(2), 1, 0)\n",
    "    df = df.loc[df.contidion==1, :]\n",
    "    o3b, c3b, h3b, l3b = result_func(df)\n",
    "    \n",
    "    # close在ma上的数据\n",
    "    df = ready(data)\n",
    "    df['contidion'] = np.where(df.c.shift(1) > df.ma.shift(1), 1, 0)\n",
    "    df = df.loc[df.contidion==1, :]\n",
    "    o4, c4, h4, l4 = result_func(df)\n",
    "    \n",
    "    # close在ma下的数据\n",
    "    df = ready(data)\n",
    "    df['contidion'] = np.where(df.c.shift(1) < df.ma.shift(1), 1, 0)\n",
    "    df = df.loc[df.contidion==1, :]\n",
    "    o4b, c4b, h4b, l4b  = result_func(df)\n",
    "    \n",
    "    dfo[column] = [o1,o2,o3,o4,o1b,o2b,o3b,o4b]\n",
    "    dfc[column] = [c1,c2,c3,c4,c1b,c2b,c3b,c4b]\n",
    "    dfh[column] = [h1,h2,h3,h4,h1b,h2b,h3b,h4b]\n",
    "    dfl[column] = [l1,l2,l3,l4,l1b,l2b,l3b,l4b]\n",
    "    #print(dfc)\n",
    "    \n",
    "process('zl', '主连日线')\n",
    "process('zlh', '主连小时线')\n",
    "process('zs', '指数日线')\n",
    "process('zsh', '指数小时线')"
   ]
  },
  {
   "cell_type": "code",
   "execution_count": 27,
   "metadata": {},
   "outputs": [
    {
     "data": {
      "image/png": "[encoded data removed]",
      "text/plain": [
       "<matplotlib.figure.Figure at 0xc5e9a20>"
      ]
     },
     "metadata": {},
     "output_type": "display_data"
    }
   ],
   "source": [
    "def plot_heatmap(data, title):\n",
    "    plt.rcParams['font.sans-serif'] = ['SimHei'] \n",
    "    plt.title(title)\n",
    "    data = data.astype(float)\n",
    "    ax = sns.heatmap(data, center=60, linewidths=1, \n",
    "                     cmap=\"RdBu\", vmin=50, vmax=70, annot=True)\n",
    "    ax.set_xticklabels(ax.xaxis.get_majorticklabels(), rotation=0)\n",
    "    ax.set_yticklabels(ax.yaxis.get_majorticklabels(), rotation=0)\n",
    "    plt.show()\n",
    "    \n",
    "#plot_heatmap(dfo, '开盘价比前两天高的概率%')\n",
    "#plot_heatmap(dfc, '收盘价比前两天高的概率%')\n",
    "#plot_heatmap(dfh, '最高价比前两天高的概率%')\n",
    "plot_heatmap(dfl, '最低价比前两天高的概率%')"
   ]
  },
  {
   "cell_type": "markdown",
   "metadata": {},
   "source": [
    "### 做空"
   ]
  },
  {
   "cell_type": "code",
   "execution_count": 28,
   "metadata": {},
   "outputs": [
    {
     "data": {
      "image/png": "[encoded data removed]",
      "text/plain": [
       "<matplotlib.figure.Figure at 0xc9a7c18>"
      ]
     },
     "metadata": {},
     "output_type": "display_data"
    }
   ],
   "source": [
    "# 显示结果的函数  做空\n",
    "def result_sell(df):\n",
    "    '''df is dataframe'''\n",
    "    df['c_down'] = np.where( df.c < df.c.shift(1), 1, 0 )\n",
    "    gailvc = np.round(df.c_down.sum()/df.shape[0], 3) * 100\n",
    "    gailvc = str(gailvc)[:4]\n",
    "    \n",
    "    df['l_down'] = np.where( df.l < df.l.shift(1), 1, 0 )\n",
    "    gailvl = round(df.l_down.sum()/df.shape[0], 3) * 100\n",
    "    gailvl = str(gailvl)[:4]\n",
    "    \n",
    "    df['o_down'] = np.where( df.o < df.o.shift(1), 1, 0 )\n",
    "    gailvo = round(df.o_down.sum()/df.shape[0], 3) * 100\n",
    "    gailvo = str(gailvo)[:4]\n",
    "    \n",
    "    df['h_down'] = np.where( df.h < df.nhh, 1, 0 )  # 比前两天高点低\n",
    "    gailvh = round(df.h_down.sum()/df.shape[0], 3) * 100\n",
    "    gailvh = str(gailvh)[:4]\n",
    "    return gailvo, gailvc, gailvh, gailvl\n",
    "\n",
    "# 收盘价各种情况比较\n",
    "dfc = pd.DataFrame(index=index, columns=columns)\n",
    "# 最低价各种情况比较\n",
    "dfl = pd.DataFrame(index=index, columns=columns)\n",
    "# 收盘价各种情况比较\n",
    "dfo = pd.DataFrame(index=index, columns=columns)\n",
    "# 最低价各种情况比较\n",
    "dfh = pd.DataFrame(index=index, columns=columns)\n",
    "\n",
    "process('zl', '主连日线', result_func=result_sell)\n",
    "process('zlh', '主连小时线', result_func=result_sell)\n",
    "process('zs', '指数日线', result_func=result_sell)\n",
    "process('zsh', '指数小时线', result_func=result_sell)\n",
    "\n",
    "#plot_heatmap(dfo, '开盘价比前两天低的概率%')\n",
    "#plot_heatmap(dfc, '收盘价比前两天低的概率%')\n",
    "plot_heatmap(dfh, '最高价比前两天低的概率%')\n",
    "#plot_heatmap(dfl, '最低价比前两天低的概率%')"
   ]
  },
  {
   "cell_type": "markdown",
   "metadata": {
    "collapsed": true
   },
   "source": []
  },
  {
   "cell_type": "markdown",
   "metadata": {},
   "source": []
  },
  {
   "cell_type": "code",
   "execution_count": null,
   "metadata": {
    "collapsed": true
   },
   "outputs": [],
   "source": []
  }
 ],
 "metadata": {
  "kernelspec": {
   "display_name": "Python 3",
   "language": "python",
   "name": "python3"
  },
  "language_info": {
   "codemirror_mode": {
    "name": "ipython",
    "version": 3
   },
   "file_extension": ".py",
   "mimetype": "text/x-python",
   "name": "python",
   "nbconvert_exporter": "python",
   "pygments_lexer": "ipython3",
   "version": "3.6.2"
  }
 },
 "nbformat": 4,
 "nbformat_minor": 2
}
