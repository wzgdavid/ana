{
 "cells": [
  {
   "cell_type": "markdown",
   "metadata": {},
   "source": [
    "股票，  固定顺势买卖的策略，总体收益是否和大盘指数有关"
   ]
  },
  {
   "cell_type": "code",
   "execution_count": 8,
   "metadata": {},
   "outputs": [
    {
     "name": "stdout",
     "output_type": "stream",
     "text": [
      "--------------------bb-----------------\n",
      "盈利比例0.32\n",
      "最后收益114.09708084590783\n",
      "单次最大亏损0.1656372824256036\n",
      "交易次数263\n"
     ]
    },
    {
     "name": "stderr",
     "output_type": "stream",
     "text": [
      "d:\\Anaconda3\\lib\\site-packages\\ipykernel_launcher.py:45: DeprecationWarning: \n",
      ".ix is deprecated. Please use\n",
      ".loc for label based indexing or\n",
      ".iloc for positional indexing\n",
      "\n",
      "See the documentation here:\n",
      "http://pandas.pydata.org/pandas-docs/stable/indexing.html#ix-indexer-is-deprecated\n",
      "d:\\Anaconda3\\lib\\site-packages\\ipykernel_launcher.py:29: DeprecationWarning: \n",
      ".ix is deprecated. Please use\n",
      ".loc for label based indexing or\n",
      ".iloc for positional indexing\n",
      "\n",
      "See the documentation here:\n",
      "http://pandas.pydata.org/pandas-docs/stable/indexing.html#ix-indexer-is-deprecated\n"
     ]
    }
   ],
   "source": [
    "import numpy as np\n",
    "import pandas as pd\n",
    "import matplotlib.pyplot as plt\n",
    "import seaborn as sns\n",
    "from functools import reduce\n",
    "\n",
    "def get_DKX(df, n=10):\n",
    "    df['a'] = (df.c * 3 + df.l + df.o + df.h)/6\n",
    "    sum_ = '+'.join(['{}*df.a.shift({})'.format(20-i, i) for i in range(0, 20)]) \n",
    "    eval_str = '({})/210'.format(sum_)\n",
    "    df['b'] = eval(eval_str)\n",
    "    df['d'] = df.b.rolling(n).mean()\n",
    "    return df.drop(['a'], axis=1)\n",
    "\n",
    "def ready(daima):\n",
    "    df = pd.read_csv(r'..\\data\\stocks\\{}.csv'.format(daima))\n",
    "    df = get_DKX(df)\n",
    "    df['b向上'] = np.where( (df['b'].shift(3)>df['b'].shift(2)) & (df['b'].shift(1)>df['b'].shift(2)),   df.o , None )\n",
    "    df['b向下'] = np.where( (df['b'].shift(3)<df['b'].shift(2)) & (df['b'].shift(1)<df['b'].shift(2)),   df.c , None )\n",
    "    return df\n",
    "\n",
    "def result(df,rates):\n",
    "    df = pd.DataFrame(rates, columns=['rates'])\n",
    "    df['ret_index'] = (df['rates']).cumprod() # 曲线\n",
    "    \n",
    "    df['每次盈亏'] = np.where(df.rates>1, '盈利', '亏损')\n",
    "    win_loss = df['每次盈亏'].value_counts()\n",
    "    wl_pct = win_loss['盈利'] / df.shape[0]\n",
    "\n",
    "    print('盈利比例{:.2f}'.format(wl_pct))\n",
    "    final_return = df.ix[df.shape[0]-1, 'ret_index']\n",
    "    print('最后收益{}'.format(final_return))\n",
    "    max_loss = 1 - df.rates.min()\n",
    "    print('单次最大亏损{}'.format(max_loss))\n",
    "    print('交易次数{}'.format(len(rates)))\n",
    "    #df.to_csv('tmp.csv')\n",
    "    \n",
    "def xielv_b(df):\n",
    "    print('--------------------bb-----------------')\n",
    "    rows_index = range(df.shape[0])\n",
    "    rates = []\n",
    "    hold = 0\n",
    "    买入日期 = []\n",
    "    卖出日期 = []\n",
    "    for i in rows_index:\n",
    "        if i == 0:\n",
    "            continue\n",
    "        if df.ix[i, 'b向上'] != None and hold==0:\n",
    "            buy = df.ix[i, 'b向上']\n",
    "            hold = 1\n",
    "            买入日期.append(df.ix[i, 'date'])\n",
    "    \n",
    "        if df.ix[i, 'b向下'] != None and hold==1:\n",
    "            rates.append(df.ix[i, 'b向下']/buy)\n",
    "            hold = 0\n",
    "            卖出日期.append(df.ix[i, 'date'])\n",
    "    #print(买入日期)\n",
    "    #print(卖出日期)\n",
    "    result(df, rates)\n",
    "\n",
    "# 看某个股票这个策略的情况\n",
    "xielv_b(ready('000001'))"
   ]
  },
  {
   "cell_type": "markdown",
   "metadata": {},
   "source": [
    "可见成功率不高，只有3成，因为这是所有年份，包括市场不好的，所以要看一下盈利多的年份是哪些，再看一下是否和大盘指数有关"
   ]
  },
  {
   "cell_type": "code",
   "execution_count": 17,
   "metadata": {},
   "outputs": [
    {
     "name": "stderr",
     "output_type": "stream",
     "text": [
      "d:\\Anaconda3\\lib\\site-packages\\ipykernel_launcher.py:9: DeprecationWarning: \n",
      ".ix is deprecated. Please use\n",
      ".loc for label based indexing or\n",
      ".iloc for positional indexing\n",
      "\n",
      "See the documentation here:\n",
      "http://pandas.pydata.org/pandas-docs/stable/indexing.html#ix-indexer-is-deprecated\n",
      "  if __name__ == '__main__':\n"
     ]
    },
    {
     "data": {
      "image/png": "[encoded data removed]",
      "text/plain": [
       "<matplotlib.figure.Figure at 0xbe106a0>"
      ]
     },
     "metadata": {},
     "output_type": "display_data"
    },
    {
     "data": {
      "text/plain": [
       " 1992    2\n",
       " 1994    2\n",
       " 1996    3\n",
       " 1997    2\n",
       " 1999    2\n",
       " 2001    1\n",
       " 2002    2\n",
       " 2003    1\n",
       " 2004    1\n",
       " 2005    1\n",
       " 2006    1\n",
       " 2007    4\n",
       " 2009    3\n",
       " 2011    1\n",
       " 2012    1\n",
       " 2013    2\n",
       " 2014    1\n",
       " 2015    2\n",
       " 2016    1\n",
       " 2017    2\n",
       "dtype: int64"
      ]
     },
     "execution_count": 17,
     "metadata": {},
     "output_type": "execute_result"
    }
   ],
   "source": [
    "def xielv_b_look_date(df):\n",
    "    rows_index = range(df.shape[0])\n",
    "    rates = []\n",
    "    hold = 0\n",
    "\n",
    "    for i in rows_index:\n",
    "        if i == 0:\n",
    "            continue\n",
    "        if df.ix[i, 'b向上'] != None and hold==0:\n",
    "            buy = df.ix[i, 'b向上']\n",
    "            buy_date = df.ix[i, 'date']\n",
    "            hold = 1\n",
    "           \n",
    "        if df.ix[i, 'b向下'] != None and hold==1:\n",
    "            if df.ix[i, 'b向下']/buy > 1.05:   # 单次收益大于5%\n",
    "                rates.append(buy_date.split('/')[0])\n",
    "            hold = 0\n",
    "    rates = pd.Series(rates).value_counts()\n",
    "    rates = rates.sort_index()\n",
    "    rates.plot(kind='bar')\n",
    "    plt.show()\n",
    "    #print(rates)\n",
    "    \n",
    "    return rates\n",
    "xielv_b_look_date(ready('000001'))"
   ]
  },
  {
   "cell_type": "code",
   "execution_count": 18,
   "metadata": {},
   "outputs": [
    {
     "name": "stderr",
     "output_type": "stream",
     "text": [
      "d:\\Anaconda3\\lib\\site-packages\\ipykernel_launcher.py:9: DeprecationWarning: \n",
      ".ix is deprecated. Please use\n",
      ".loc for label based indexing or\n",
      ".iloc for positional indexing\n",
      "\n",
      "See the documentation here:\n",
      "http://pandas.pydata.org/pandas-docs/stable/indexing.html#ix-indexer-is-deprecated\n",
      "  if __name__ == '__main__':\n"
     ]
    },
    {
     "data": {
      "image/png": "[encoded data removed]",
      "text/plain": [
       "<matplotlib.figure.Figure at 0xc14aeb8>"
      ]
     },
     "metadata": {},
     "output_type": "display_data"
    },
    {
     "data": {
      "image/png": "[encoded data removed]",
      "text/plain": [
       "<matplotlib.figure.Figure at 0xbdf5c88>"
      ]
     },
     "metadata": {},
     "output_type": "display_data"
    },
    {
     "data": {
      "image/png": "[encoded data removed]",
      "text/plain": [
       "<matplotlib.figure.Figure at 0xc698278>"
      ]
     },
     "metadata": {},
     "output_type": "display_data"
    },
    {
     "data": {
      "image/png": "[encoded data removed]",
      "text/plain": [
       "<matplotlib.figure.Figure at 0xc087be0>"
      ]
     },
     "metadata": {},
     "output_type": "display_data"
    },
    {
     "data": {
      "image/png": "[encoded data removed]",
      "text/plain": [
       "<matplotlib.figure.Figure at 0xc758f28>"
      ]
     },
     "metadata": {},
     "output_type": "display_data"
    },
    {
     "data": {
      "image/png": "[encoded data removed]",
      "text/plain": [
       "<matplotlib.figure.Figure at 0xcb4b0f0>"
      ]
     },
     "metadata": {},
     "output_type": "display_data"
    },
    {
     "data": {
      "image/png": "[encoded data removed]",
      "text/plain": [
       "<matplotlib.figure.Figure at 0xc56fe80>"
      ]
     },
     "metadata": {},
     "output_type": "display_data"
    }
   ],
   "source": [
    "# 大概能看出点趋势，但一个股票不能说明问题，用几个股票的盈利年份加起来看下\n",
    "plt.rcParams['font.sans-serif'] = ['SimHei']\n",
    "a = xielv_b_look_date(ready('000001'))\n",
    "b = xielv_b_look_date(ready('000002'))\n",
    "c = xielv_b_look_date(ready('000004'))\n",
    "d = xielv_b_look_date(ready('600096'))\n",
    "e = xielv_b_look_date(ready('600361'))\n",
    "f = xielv_b_look_date(ready('600712'))\n",
    "#help(a.add)\n",
    "total = a.add(b, fill_value=0).add(c, fill_value=0).add(c, fill_value=0).add(d, fill_value=0).add(e, fill_value=0).add(f, fill_value=0)\n",
    "#total = reduce(pd.Series.add, [a,b,c,d,e,f])\n",
    "plt.clf() \n",
    "total.plot(kind='bar')\n",
    "plt.title('盈利次数和年份关系')\n",
    "#print(total)\n",
    "plt.show()"
   ]
  },
  {
   "cell_type": "markdown",
   "metadata": {},
   "source": [
    "可看出07年和15年明显是收益多的，可见是有关系的，所以要在大环境好的时候入市做股票，选股不是最重要，这样的行情一般几年才会有一次"
   ]
  }
 ],
 "metadata": {
  "kernelspec": {
   "display_name": "Python 3",
   "language": "python",
   "name": "python3"
  },
  "language_info": {
   "codemirror_mode": {
    "name": "ipython",
    "version": 3
   },
   "file_extension": ".py",
   "mimetype": "text/x-python",
   "name": "python",
   "nbconvert_exporter": "python",
   "pygments_lexer": "ipython3",
   "version": "3.6.2"
  }
 },
 "nbformat": 4,
 "nbformat_minor": 2
}
