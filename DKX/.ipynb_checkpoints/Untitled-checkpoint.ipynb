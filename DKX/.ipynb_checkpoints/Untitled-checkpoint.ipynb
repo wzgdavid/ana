{
 "cells": [
  {
   "cell_type": "code",
   "execution_count": 11,
   "metadata": {
    "collapsed": true
   },
   "outputs": [],
   "source": [
    "import numpy as np\n",
    "import pandas as pd\n",
    "import matplotlib.pyplot as plt\n",
    "import seaborn as sns\n",
    "from common import get_DKX, get_nhh, get_nll, get_ma\n",
    "\n",
    "df = pd.read_csv(r'..\\data\\rb\\zs.csv')\n",
    "\n",
    "df = get_DKX(df)\n",
    "df = get_nhh(df, 2)\n",
    "df = get_nll(df, 2)\n",
    "df = get_nhh(df, 7)\n",
    "df = get_nll(df, 7)\n",
    "df = get_ma(df, 20)"
   ]
  },
  {
   "cell_type": "code",
   "execution_count": 12,
   "metadata": {},
   "outputs": [],
   "source": [
    "'''\n",
    "--------------------------趋势判断1---------------------------------\n",
    "'''\n",
    "# 趋势判断，DKXb方向，1 向上   0向下  当天参照前两天\n",
    "df['DKXb方向'] = np.where(df.b.shift(1)>df.b.shift(2), 1, 0) \n",
    "# 开仓条件\n",
    "df = df.dropna(axis=0)\n",
    "df['高于前两天高点'] = np.where(df.h > df.nhh2, 1, None)   # 看当天 \n",
    "df['低于前两天低点'] = np.where(df.l < df.nll2, 1, None)\n",
    "# 开仓  bk开多  sk开空\n",
    "df['开仓'] = np.where((df['高于前两天高点'] == 1) & (df['DKXb方向']==1), 'bk', None)\n",
    "df['开仓'] = np.where((df['低于前两天低点'] == 1) & (df['DKXb方向']==0), 'sk', df['开仓'] )\n",
    "# 平仓 趋势反转 'bp' 平多  'sp' 平空\n",
    "df['平仓'] = np.where((df.DKXb方向.shift(2) == 1) & (df.DKXb方向.shift(1) == 0), 'bp', None)\n",
    "df['平仓'] = np.where((df.DKXb方向.shift(2) == 0) & (df.DKXb方向.shift(1) == 1), 'sp', df['平仓'])\n",
    "\n",
    "#平仓的同时不反向开仓\n",
    "df['开仓'] = np.where(df['平仓'].isnull(), df['开仓'], None)\n",
    "dates = pd.DatetimeIndex(df.date)\n",
    "df.index = dates\n",
    "df = df.drop('date', axis=1)\n",
    "'''\n",
    "初始化\n",
    "'''\n",
    "df['bk总手数'] = 0\n",
    "df['bkprice'] = 0\n",
    "df['sk总手数'] = 0\n",
    "df['skprice'] = 0\n",
    "df['b保证金'] = 0  # \n",
    "df['s保证金'] = 0\n",
    "df['b合约金额'] = 0  # 比如3000点买的螺纹， 实际合约价值是10吨，3万元\n",
    "df['s合约金额'] = 0\n",
    "df['总金额'] = 0"
   ]
  },
  {
   "cell_type": "code",
   "execution_count": 13,
   "metadata": {},
   "outputs": [
    {
     "name": "stderr",
     "output_type": "stream",
     "text": [
      "d:\\Anaconda3\\lib\\site-packages\\ipykernel_launcher.py:23: DeprecationWarning: \n",
      ".ix is deprecated. Please use\n",
      ".loc for label based indexing or\n",
      ".iloc for positional indexing\n",
      "\n",
      "See the documentation here:\n",
      "http://pandas.pydata.org/pandas-docs/stable/indexing.html#ix-indexer-is-deprecated\n"
     ]
    },
    {
     "data": {
      "image/png": "[encoded data removed]",
      "text/plain": [
       "<matplotlib.figure.Figure at 0xbd2f4e0>"
      ]
     },
     "metadata": {},
     "output_type": "display_data"
    }
   ],
   "source": [
    "def run1(df, zj_init):\n",
    "    '''zj_init 初始资金\n",
    "    简单跑，只考虑做多 每次遇到信号开一手，没有开仓止损，没有资金管理 平仓信号全平\n",
    "    只根据信号开平仓\n",
    "    '''\n",
    "    arr = np.zeros(df.shape[0])\n",
    "    arr[0] = zj_init  # \n",
    "    df['可用余额'] = arr # 初始化可用余额\n",
    "    rows_index = range(df.shape[0])\n",
    "    for i in rows_index:\n",
    "        row = df.iloc[i]  # 判断用row， 赋值用df.ix\n",
    "        last_row = df.iloc[i-1] if i > 0 else row\n",
    "    \n",
    "        # 多\n",
    "        if row['开仓'] == 'bk':\n",
    "            df.ix[i, 'bk总手数'] = last_row['bk总手数'] + 1\n",
    "            # 简单计算， 保证金比例就一比十， 既价格就是保证金额\n",
    "            df.ix[i, 'bkprice'] = row.o if row.o>row.nhh2 else row.nhh2 # 前两天的高点作为开仓价,跳开用今天的开盘作为开仓价\n",
    "            df.ix[i, 'b保证金'] = last_row['b保证金'] + df.ix[i, 'bkprice']  # \n",
    "            df.ix[i, 'b合约金额'] = df.ix[i, 'bkprice'] * df.ix[i, 'bk总手数'] * 10 # 螺纹一手10吨\n",
    "            df.ix[i, '可用余额'] = last_row['可用余额'] - df.ix[i, 'bkprice'] # \n",
    "        else: \n",
    "            df.ix[i, 'bk总手数'] = last_row['bk总手数']\n",
    "            df.ix[i, 'b保证金'] = last_row['b保证金']\n",
    "            df.ix[i, '可用余额'] = last_row['可用余额']\n",
    "            df.ix[i, 'b合约金额'] = row.c * df.ix[i, 'bk总手数'] * 10 # 螺纹一手10吨\n",
    "        if row['平仓'] == 'bp':\n",
    "            df.ix[i, 'bk总手数'] = 0\n",
    "            df.ix[i, 'b保证金'] = 0\n",
    "            #df.ix[i, '可用余额'] = last_row['可用余额'] + df.ix[i, 'b合约金额']/10\n",
    "            df.ix[i, '可用余额'] = last_row['总金额']\n",
    "            df.ix[i, 'b合约金额'] = 0\n",
    "        \n",
    "        # 空\n",
    "        if row['开仓'] == 'sk':\n",
    "            df.ix[i, 'sk总手数'] = last_row['sk总手数'] + 1\n",
    "            df.ix[i, 'skprice'] = row.o if row.o<row.nll2 else row.nll2 \n",
    "            df.ix[i, 's保证金'] = last_row['s保证金'] + df.ix[i, 'skprice']\n",
    "            df.ix[i, 's合约金额'] = df.ix[i, 'skprice'] * df.ix[i, 'sk总手数'] * 10 # 螺纹一手10吨\n",
    "            df.ix[i, '可用余额'] = last_row['可用余额'] - df.ix[i, 'skprice']\n",
    "        else:\n",
    "            df.ix[i, 'sk总手数'] = last_row['sk总手数']\n",
    "            df.ix[i, 's保证金'] = last_row['s保证金']\n",
    "            df.ix[i, '可用余额'] = last_row['可用余额']\n",
    "            df.ix[i, 's合约金额'] = row.c * df.ix[i, 'sk总手数'] * 10 # 螺纹一手10吨\n",
    "        if row['平仓'] == 'sp':\n",
    "            df.ix[i, 'sk总手数'] = 0\n",
    "            df.ix[i, 's保证金'] = 0\n",
    "            df.ix[i, '可用余额'] = last_row['总金额']\n",
    "            df.ix[i, 's合约金额'] = 0\n",
    "\n",
    "        df.ix[i, '总金额'] = df.ix[i, '可用余额'] + df.ix[i, 'b保证金'] + (df.ix[i, 'b合约金额']/ 10 - df.ix[i, 'b保证金'])*10 \\\n",
    "                               + df.ix[i, 's保证金'] + (df.ix[i, 's保证金'] - df.ix[i, 's合约金额']/ 10  )*10\n",
    "    \n",
    "\n",
    "    droplist = ['vol', 'b', 'nhh2', 'nll2', 'DKXb方向',  '高于前两天高点', '低于前两天低点']\n",
    "    df = df.drop(droplist, axis=1)\n",
    "    df.to_csv('tmp.csv')\n",
    "    plt.plot(df['总金额'])\n",
    "    plt.title('run1')\n",
    "    plt.show()\n",
    "    \n",
    "run1(df, 100000)"
   ]
  },
  {
   "cell_type": "code",
   "execution_count": null,
   "metadata": {
    "collapsed": true
   },
   "outputs": [],
   "source": []
  }
 ],
 "metadata": {
  "kernelspec": {
   "display_name": "Python 3",
   "language": "python",
   "name": "python3"
  },
  "language_info": {
   "codemirror_mode": {
    "name": "ipython",
    "version": 3
   },
   "file_extension": ".py",
   "mimetype": "text/x-python",
   "name": "python",
   "nbconvert_exporter": "python",
   "pygments_lexer": "ipython3",
   "version": "3.6.2"
  }
 },
 "nbformat": 4,
 "nbformat_minor": 2
}
